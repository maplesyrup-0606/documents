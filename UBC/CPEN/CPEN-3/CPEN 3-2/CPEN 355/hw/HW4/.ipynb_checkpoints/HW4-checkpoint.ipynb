{
 "cells": [
  {
   "cell_type": "markdown",
   "metadata": {
    "id": "DndxEu9JIzos"
   },
   "source": [
    "## HW4"
   ]
  },
  {
   "cell_type": "code",
   "execution_count": null,
   "metadata": {
    "id": "UOm6AH4lIzov"
   },
   "outputs": [],
   "source": [
    "import numpy as np\n",
    "import matplotlib.pyplot as plt\n",
    "import tensorflow as tf\n",
    "import math\n",
    "\n",
    "# Change the seed to get different random numbers\n",
    "np.random.seed(1)"
   ]
  },
  {
   "cell_type": "markdown",
   "metadata": {
    "id": "3HA2s6DOIzo0"
   },
   "source": [
    "### Problem 2.1: PCA for dimension reduction (3 Points)\n",
    "\n",
    "In this problem you will approximately reconstruct images by simplifying them to multiples of a few principal components.\n",
    "\n",
    "Note: When you display the images, use the color map `cmap=plt.cm.gray.reversed()` for MNIST."
   ]
  },
  {
   "cell_type": "code",
   "execution_count": null,
   "metadata": {
    "id": "EOIHVcr1Izo0"
   },
   "outputs": [],
   "source": [
    "(x, y), (x_test, y_test) = tf.keras.datasets.mnist.load_data()\n",
    "x = x.reshape([60000, 28*28])\n",
    "zeros = np.where(y==0)[0]\n",
    "x = x[zeros,:]\n",
    "y = y[zeros]\n",
    "my_image = np.random.randint(0, len(y), size=1)\n",
    "\n",
    "plt.imshow(x[my_image,:].reshape((28,28)), cmap=plt.cm.gray.reversed())"
   ]
  },
  {
   "cell_type": "markdown",
   "metadata": {
    "id": "wBCp6E-qIzo1"
   },
   "source": [
    "For $k = 0, 10, 20, 30, 40, 49$, use $k$-th principal components for MNIST $0$'s to approximately reconstruct the image selected above. Noting that we index from 0, namely 0-th pricipal component is the first one. Display the reconstruction for each value of $k$. To display the set of images compactly, you may want to use the 'plot_images' function defined below."
   ]
  },
  {
   "cell_type": "code",
   "execution_count": null,
   "metadata": {
    "id": "kTVte9F94YZ0"
   },
   "outputs": [],
   "source": [
    "def plot_images(images, titles, h, w, n_row=3, n_col=4, reversed=False):\n",
    "    plt.figure(figsize=(1.8 * n_col, 2.4 * n_row))\n",
    "    plt.subplots_adjust(bottom=0, left=.01, right=.99, top=.90, hspace=.35)\n",
    "    for i in range(n_row * n_col):\n",
    "        if i >= len(images):\n",
    "            break\n",
    "        plt.subplot(n_row, n_col, i + 1)\n",
    "        if reversed:\n",
    "            plt.imshow(images[i].reshape((h, w)), cmap=plt.cm.gray)\n",
    "        else:\n",
    "            plt.imshow(images[i].reshape((h, w)), cmap=plt.cm.gray.reversed())\n",
    "        plt.title(titles[i], size=12)\n",
    "        plt.xticks(())\n",
    "        plt.yticks(())"
   ]
  },
  {
   "cell_type": "code",
   "execution_count": null,
   "metadata": {
    "id": "1Q-n5z_i4FQ8"
   },
   "outputs": [],
   "source": [
    "from sklearn.decomposition import PCA\n",
    "\n",
    "height = 28\n",
    "width = 28\n",
    "\n",
    "\n",
    "num_components = 50\n",
    "\n",
    "#initialize and fit PCA\n",
    "pca = PCA(num_components).fit(x)\n",
    "\n",
    "#get principal_vectors (components) of the fitted pca (size = (n_components, n_features)). The components are sorted by explained_variance_.\n",
    "principal_vectors =\n",
    "\n",
    "#reshape the principals vectors to the same size of input images\n",
    "principal_vectors = principal_vectors.reshape((num_components, height, width))\n",
    "\n",
    "# fit the model with x and apply the dimensionality reduction on x.\n",
    "pcs =\n",
    "\n",
    "# Transform data back to its original space\n",
    "capprox =\n",
    "\n",
    "# plot\n",
    "labels = ['principal vector %d' % (i+1) for i in np.arange(num_components)]\n",
    "\n",
    "plot_images( #fill in# )\n",
    "\n",
    "# show the obtained total variance\n",
    "ratio = pca.explained_variance_ratio_.sum()\n",
    "print('Variance explained by first %d principal vectors: %.2f%%' % (num_components, ratio*100))"
   ]
  },
  {
   "cell_type": "markdown",
   "metadata": {
    "id": "XRFkvfcHIzo1"
   },
   "source": [
    "Your explanation here (and in your report)"
   ]
  },
  {
   "cell_type": "markdown",
   "metadata": {
    "id": "FCeghTCDIzo3"
   },
   "source": [
    "### Problem 2.2: PCA for classification (7 Points)"
   ]
  },
  {
   "cell_type": "markdown",
   "metadata": {
    "id": "lIavvn0uIzo3"
   },
   "source": [
    "#### Part (a)"
   ]
  },
  {
   "cell_type": "code",
   "execution_count": null,
   "metadata": {
    "id": "0HcmqZbVIzo3"
   },
   "outputs": [],
   "source": [
    "from sklearn.linear_model import LogisticRegression\n",
    "\n",
    "(x, y), (x_test, y_test) = tf.keras.datasets.mnist.load_data()\n",
    "x = x.reshape([60000, 28*28])"
   ]
  },
  {
   "cell_type": "code",
   "execution_count": null,
   "metadata": {
    "id": "pPgfV5CsIzo3"
   },
   "outputs": [],
   "source": [
    "# Your Code Here"
   ]
  },
  {
   "cell_type": "markdown",
   "metadata": {
    "id": "ab8O9ogaIzo3"
   },
   "source": [
    "Your explanation here (and in your report)"
   ]
  },
  {
   "cell_type": "markdown",
   "metadata": {
    "id": "How8mjBiIzo4"
   },
   "source": [
    "#### Part (b)"
   ]
  },
  {
   "cell_type": "code",
   "execution_count": null,
   "metadata": {
    "id": "0McAoE7BIzo4"
   },
   "outputs": [],
   "source": [
    "# Your Code Here"
   ]
  },
  {
   "cell_type": "markdown",
   "metadata": {
    "id": "4Hs4OtBFIzo4"
   },
   "source": [
    "Your explanation here (and in your report)"
   ]
  },
  {
   "cell_type": "code",
   "execution_count": null,
   "metadata": {
    "id": "ZVP8m3DUSp_a"
   },
   "outputs": [],
   "source": []
  }
 ],
 "metadata": {
  "colab": {
   "provenance": []
  },
  "kernelspec": {
   "display_name": "Python 3 (ipykernel)",
   "language": "python",
   "name": "python3"
  },
  "language_info": {
   "codemirror_mode": {
    "name": "ipython",
    "version": 3
   },
   "file_extension": ".py",
   "mimetype": "text/x-python",
   "name": "python",
   "nbconvert_exporter": "python",
   "pygments_lexer": "ipython3",
   "version": "3.7.7"
  },
  "toc": {
   "base_numbering": 1,
   "nav_menu": {},
   "number_sections": true,
   "sideBar": true,
   "skip_h1_title": false,
   "title_cell": "Table of Contents",
   "title_sidebar": "Contents",
   "toc_cell": false,
   "toc_position": {},
   "toc_section_display": true,
   "toc_window_display": false
  }
 },
 "nbformat": 4,
 "nbformat_minor": 1
}
